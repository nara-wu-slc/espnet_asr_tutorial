{
 "cells": [
  {
   "cell_type": "code",
   "execution_count": null,
   "id": "12a6eb79",
   "metadata": {},
   "outputs": [],
   "source": [
    "import time\n",
    "import torch\n",
    "import string\n",
    "from espnet_model_zoo.downloader import ModelDownloader\n",
    "from espnet2.bin.asr_inference import Speech2Text\n",
    "\n",
    "d = ModelDownloader()\n",
    "speech2text = Speech2Text(\n",
    "    # モデルのダウンロードとセットアップ\n",
    "    **d.download_and_unpack('Shinji Watanabe/spgispeech_asr_train_asr_conformer6_n_fft512_hop_length256_raw_en_unnorm_bpe5000_valid.acc.ave'),\n",
    "    device=\"cuda\",\n",
    "    minlenratio=0.0,\n",
    "    maxlenratio=0.0,\n",
    "    ctc_weight=0.3,\n",
    "    beam_size=10,\n",
    "    batch_size=0,\n",
    "    nbest=1  # 最良の結果の数\n",
    ")"
   ]
  },
  {
   "cell_type": "code",
   "execution_count": null,
   "id": "96c0fd90",
   "metadata": {},
   "outputs": [],
   "source": [
    "from IPython.display import display, Audio\n",
    "import soundfile as sf\n",
    "import librosa.display\n",
    "import matplotlib.pyplot as plt\n",
    "\n",
    "# オーディオファイルからサンプルを取得する関数\n",
    "def get_samples(audio_file, target_sr=16000):\n",
    "    data, sample_rate = sf.read(audio_file)  # オーディオファイルを読み込み\n",
    "    if sample_rate != target_sr:\n",
    "        # サンプルレートが目標と異なる場合は変換\n",
    "        data = librosa.resample(data, orig_sr=sample_rate, target_sr=target_sr)\n",
    "    return data, sample_rate"
   ]
  },
  {
   "cell_type": "code",
   "execution_count": null,
   "id": "95316a3e-0b6e-4e91-ab80-24ad2c0657c5",
   "metadata": {},
   "outputs": [],
   "source": [
    "sample, rate = get_samples(\"test.wav\")\n",
    "nbests = speech2text(sample)\n",
    "text, *_ = nbests[0]\n",
    "\n",
    "print(f\"{text}\")"
   ]
  }
 ],
 "metadata": {
  "kernelspec": {
   "display_name": "Python 3 (ipykernel)",
   "language": "python",
   "name": "python3"
  },
  "language_info": {
   "codemirror_mode": {
    "name": "ipython",
    "version": 3
   },
   "file_extension": ".py",
   "mimetype": "text/x-python",
   "name": "python",
   "nbconvert_exporter": "python",
   "pygments_lexer": "ipython3",
   "version": "3.10.12"
  }
 },
 "nbformat": 4,
 "nbformat_minor": 5
}
